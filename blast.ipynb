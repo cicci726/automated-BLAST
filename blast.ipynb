{
 "cells": [
  {
   "cell_type": "code",
   "execution_count": 1,
   "id": "e7c53022-29a4-4b92-9e5e-7de0128969bd",
   "metadata": {},
   "outputs": [],
   "source": [
    "#import packages\n",
    "import pandas as pd\n",
    "import numpy as np\n",
    "import csv\n",
    "import Bio"
   ]
  },
  {
   "cell_type": "code",
   "execution_count": 29,
   "id": "c2a744ea-9625-4507-b63c-2536b6dfbcc1",
   "metadata": {},
   "outputs": [],
   "source": [
    "genes = pd.read_csv('test.txt',sep=' ')"
   ]
  },
  {
   "cell_type": "code",
   "execution_count": 30,
   "id": "0262a928-8d55-4ab7-a972-524678c0cc0d",
   "metadata": {},
   "outputs": [
    {
     "data": {
      "text/html": [
       "<div>\n",
       "<style scoped>\n",
       "    .dataframe tbody tr th:only-of-type {\n",
       "        vertical-align: middle;\n",
       "    }\n",
       "\n",
       "    .dataframe tbody tr th {\n",
       "        vertical-align: top;\n",
       "    }\n",
       "\n",
       "    .dataframe thead th {\n",
       "        text-align: right;\n",
       "    }\n",
       "</style>\n",
       "<table border=\"1\" class=\"dataframe\">\n",
       "  <thead>\n",
       "    <tr style=\"text-align: right;\">\n",
       "      <th></th>\n",
       "      <th>genes</th>\n",
       "      <th>baseMean</th>\n",
       "      <th>log2FoldChange</th>\n",
       "      <th>lfcSE</th>\n",
       "      <th>stat</th>\n",
       "      <th>pvalue</th>\n",
       "      <th>padj</th>\n",
       "    </tr>\n",
       "  </thead>\n",
       "  <tbody>\n",
       "    <tr>\n",
       "      <th>0</th>\n",
       "      <td>FGSG_12766</td>\n",
       "      <td>255.656625</td>\n",
       "      <td>5.810286</td>\n",
       "      <td>2.020458</td>\n",
       "      <td>2.875727</td>\n",
       "      <td>0.004031</td>\n",
       "      <td>0.047326</td>\n",
       "    </tr>\n",
       "    <tr>\n",
       "      <th>1</th>\n",
       "      <td>FGSG_00311</td>\n",
       "      <td>151.176689</td>\n",
       "      <td>6.827626</td>\n",
       "      <td>2.487225</td>\n",
       "      <td>2.745078</td>\n",
       "      <td>0.006050</td>\n",
       "      <td>0.048814</td>\n",
       "    </tr>\n",
       "    <tr>\n",
       "      <th>2</th>\n",
       "      <td>FGSG_13488</td>\n",
       "      <td>167.295078</td>\n",
       "      <td>8.152338</td>\n",
       "      <td>2.534992</td>\n",
       "      <td>3.215923</td>\n",
       "      <td>0.001300</td>\n",
       "      <td>0.047326</td>\n",
       "    </tr>\n",
       "  </tbody>\n",
       "</table>\n",
       "</div>"
      ],
      "text/plain": [
       "        genes    baseMean  log2FoldChange     lfcSE      stat    pvalue  \\\n",
       "0  FGSG_12766  255.656625        5.810286  2.020458  2.875727  0.004031   \n",
       "1  FGSG_00311  151.176689        6.827626  2.487225  2.745078  0.006050   \n",
       "2  FGSG_13488  167.295078        8.152338  2.534992  3.215923  0.001300   \n",
       "\n",
       "       padj  \n",
       "0  0.047326  \n",
       "1  0.048814  \n",
       "2  0.047326  "
      ]
     },
     "execution_count": 30,
     "metadata": {},
     "output_type": "execute_result"
    }
   ],
   "source": [
    "genes"
   ]
  },
  {
   "cell_type": "code",
   "execution_count": 31,
   "id": "5d14be36-0fc9-4c71-bca3-ba3c2948fd0e",
   "metadata": {},
   "outputs": [],
   "source": [
    "#genes = genes.iloc[:,0]"
   ]
  },
  {
   "cell_type": "code",
   "execution_count": 32,
   "id": "d11a12ee-09bb-4510-854f-48c7d430f889",
   "metadata": {},
   "outputs": [],
   "source": [
    "#genes"
   ]
  },
  {
   "cell_type": "code",
   "execution_count": 33,
   "id": "42121492-2a8f-4080-bb3c-4ebd211d532c",
   "metadata": {},
   "outputs": [],
   "source": [
    "df_genes = pd.DataFrame(genes)"
   ]
  },
  {
   "cell_type": "code",
   "execution_count": 34,
   "id": "40b595ce-227b-4a47-969b-917ff1e418a3",
   "metadata": {},
   "outputs": [
    {
     "data": {
      "text/html": [
       "<div>\n",
       "<style scoped>\n",
       "    .dataframe tbody tr th:only-of-type {\n",
       "        vertical-align: middle;\n",
       "    }\n",
       "\n",
       "    .dataframe tbody tr th {\n",
       "        vertical-align: top;\n",
       "    }\n",
       "\n",
       "    .dataframe thead th {\n",
       "        text-align: right;\n",
       "    }\n",
       "</style>\n",
       "<table border=\"1\" class=\"dataframe\">\n",
       "  <thead>\n",
       "    <tr style=\"text-align: right;\">\n",
       "      <th></th>\n",
       "      <th>genes</th>\n",
       "      <th>baseMean</th>\n",
       "      <th>log2FoldChange</th>\n",
       "      <th>lfcSE</th>\n",
       "      <th>stat</th>\n",
       "      <th>pvalue</th>\n",
       "      <th>padj</th>\n",
       "    </tr>\n",
       "  </thead>\n",
       "  <tbody>\n",
       "    <tr>\n",
       "      <th>0</th>\n",
       "      <td>FGSG_12766</td>\n",
       "      <td>255.656625</td>\n",
       "      <td>5.810286</td>\n",
       "      <td>2.020458</td>\n",
       "      <td>2.875727</td>\n",
       "      <td>0.004031</td>\n",
       "      <td>0.047326</td>\n",
       "    </tr>\n",
       "    <tr>\n",
       "      <th>1</th>\n",
       "      <td>FGSG_00311</td>\n",
       "      <td>151.176689</td>\n",
       "      <td>6.827626</td>\n",
       "      <td>2.487225</td>\n",
       "      <td>2.745078</td>\n",
       "      <td>0.006050</td>\n",
       "      <td>0.048814</td>\n",
       "    </tr>\n",
       "    <tr>\n",
       "      <th>2</th>\n",
       "      <td>FGSG_13488</td>\n",
       "      <td>167.295078</td>\n",
       "      <td>8.152338</td>\n",
       "      <td>2.534992</td>\n",
       "      <td>3.215923</td>\n",
       "      <td>0.001300</td>\n",
       "      <td>0.047326</td>\n",
       "    </tr>\n",
       "  </tbody>\n",
       "</table>\n",
       "</div>"
      ],
      "text/plain": [
       "        genes    baseMean  log2FoldChange     lfcSE      stat    pvalue  \\\n",
       "0  FGSG_12766  255.656625        5.810286  2.020458  2.875727  0.004031   \n",
       "1  FGSG_00311  151.176689        6.827626  2.487225  2.745078  0.006050   \n",
       "2  FGSG_13488  167.295078        8.152338  2.534992  3.215923  0.001300   \n",
       "\n",
       "       padj  \n",
       "0  0.047326  \n",
       "1  0.048814  \n",
       "2  0.047326  "
      ]
     },
     "execution_count": 34,
     "metadata": {},
     "output_type": "execute_result"
    }
   ],
   "source": [
    "df_genes"
   ]
  },
  {
   "cell_type": "code",
   "execution_count": 35,
   "id": "36015db5-4bf5-48ab-8f4c-449f0d9eab8d",
   "metadata": {},
   "outputs": [
    {
     "name": "stdout",
     "output_type": "stream",
     "text": [
      "The url-list is completed\n"
     ]
    }
   ],
   "source": [
    "url_list =[]\n",
    "id_list = list(df_genes['genes'])\n",
    "i=0\n",
    "for row in id_list:\n",
    "    url_list.append(f'https://www.ncbi.nlm.nih.gov/gene/?term={id_list[i]}')\n",
    "    i+=1\n",
    "print('The url-list is completed')"
   ]
  },
  {
   "cell_type": "code",
   "execution_count": 36,
   "id": "0f1bd922-f3f9-4b37-b054-4eb7255e6acb",
   "metadata": {},
   "outputs": [
    {
     "data": {
      "text/plain": [
       "['https://www.ncbi.nlm.nih.gov/gene/?term=FGSG_12766',\n",
       " 'https://www.ncbi.nlm.nih.gov/gene/?term=FGSG_00311',\n",
       " 'https://www.ncbi.nlm.nih.gov/gene/?term=FGSG_13488']"
      ]
     },
     "execution_count": 36,
     "metadata": {},
     "output_type": "execute_result"
    }
   ],
   "source": [
    "url_list"
   ]
  },
  {
   "cell_type": "code",
   "execution_count": 37,
   "id": "65facb45-22e5-4631-9c9d-8259808cc0a3",
   "metadata": {},
   "outputs": [
    {
     "name": "stdout",
     "output_type": "stream",
     "text": [
      "This will take some time. Drink more coffe while I am working\n",
      "ID #1/3 is XP_011324162.1\n",
      "ID #2/3 is XP_011315959.1\n",
      "ID #3/3 is XP_011328828.1\n",
      "My duty is done, MASTER!\n"
     ]
    }
   ],
   "source": [
    "#now we need to pack the beautiful soup in a loop and write all protein IDs\n",
    "import requests\n",
    "from bs4 import BeautifulSoup\n",
    "\n",
    "# URL of the webpage to scrape\n",
    "#url = \"https://www.ncbi.nlm.nih.gov/gene/?term=FGSG_09501\"  # Replace with the actual URL\n",
    "ProteinIDs=[]\n",
    "\n",
    "i=0\n",
    "print(\"This will take some time. Drink more coffe while I am working\")\n",
    "for row in url_list:\n",
    "    try:\n",
    "        # Fetch the webpage content\n",
    "        response = requests.get(url_list[i])\n",
    "        # Check if the request was successful\n",
    "        if response.status_code == 200:\n",
    "            # Parse the HTML content\n",
    "            soup = BeautifulSoup(response.text, \"html.parser\")\n",
    "    # Find all anchor tags that match the pattern\n",
    "        for link in soup.find_all(\"a\", href=True):\n",
    "            if link[\"href\"].startswith(\"/protein/\") and link.text.startswith(\"XP_\"):\n",
    "                ProteinIDs.append(link.text)\n",
    "                print(f\"ID #{i+1}/{len(url_list)} is {link.text}\")\n",
    "    except:\n",
    "        print(\"Failed to retrieve the webpage\")\n",
    "    i+=1\n",
    "    if i==len(url_list):\n",
    "        print(\"My duty is done, MASTER!\")\n",
    "        break"
   ]
  },
  {
   "cell_type": "code",
   "execution_count": 38,
   "id": "0ceb2efc-1fcd-4575-aca9-7ec0d21f17ab",
   "metadata": {},
   "outputs": [
    {
     "data": {
      "text/plain": [
       "['XP_011324162.1', 'XP_011315959.1', 'XP_011328828.1']"
      ]
     },
     "execution_count": 38,
     "metadata": {},
     "output_type": "execute_result"
    }
   ],
   "source": [
    "ProteinIDs"
   ]
  },
  {
   "cell_type": "code",
   "execution_count": 39,
   "id": "a99c33b6-4aa6-4047-9713-85693d4733f6",
   "metadata": {},
   "outputs": [],
   "source": [
    "df_genes[\"Protein_ID\"] = pd.DataFrame(ProteinIDs)"
   ]
  },
  {
   "cell_type": "code",
   "execution_count": 40,
   "id": "8677f5ee-4742-4873-96a6-5638d7dc96a8",
   "metadata": {},
   "outputs": [
    {
     "data": {
      "text/html": [
       "<div>\n",
       "<style scoped>\n",
       "    .dataframe tbody tr th:only-of-type {\n",
       "        vertical-align: middle;\n",
       "    }\n",
       "\n",
       "    .dataframe tbody tr th {\n",
       "        vertical-align: top;\n",
       "    }\n",
       "\n",
       "    .dataframe thead th {\n",
       "        text-align: right;\n",
       "    }\n",
       "</style>\n",
       "<table border=\"1\" class=\"dataframe\">\n",
       "  <thead>\n",
       "    <tr style=\"text-align: right;\">\n",
       "      <th></th>\n",
       "      <th>genes</th>\n",
       "      <th>baseMean</th>\n",
       "      <th>log2FoldChange</th>\n",
       "      <th>lfcSE</th>\n",
       "      <th>stat</th>\n",
       "      <th>pvalue</th>\n",
       "      <th>padj</th>\n",
       "      <th>Protein_ID</th>\n",
       "    </tr>\n",
       "  </thead>\n",
       "  <tbody>\n",
       "    <tr>\n",
       "      <th>0</th>\n",
       "      <td>FGSG_12766</td>\n",
       "      <td>255.656625</td>\n",
       "      <td>5.810286</td>\n",
       "      <td>2.020458</td>\n",
       "      <td>2.875727</td>\n",
       "      <td>0.004031</td>\n",
       "      <td>0.047326</td>\n",
       "      <td>XP_011324162.1</td>\n",
       "    </tr>\n",
       "    <tr>\n",
       "      <th>1</th>\n",
       "      <td>FGSG_00311</td>\n",
       "      <td>151.176689</td>\n",
       "      <td>6.827626</td>\n",
       "      <td>2.487225</td>\n",
       "      <td>2.745078</td>\n",
       "      <td>0.006050</td>\n",
       "      <td>0.048814</td>\n",
       "      <td>XP_011315959.1</td>\n",
       "    </tr>\n",
       "    <tr>\n",
       "      <th>2</th>\n",
       "      <td>FGSG_13488</td>\n",
       "      <td>167.295078</td>\n",
       "      <td>8.152338</td>\n",
       "      <td>2.534992</td>\n",
       "      <td>3.215923</td>\n",
       "      <td>0.001300</td>\n",
       "      <td>0.047326</td>\n",
       "      <td>XP_011328828.1</td>\n",
       "    </tr>\n",
       "  </tbody>\n",
       "</table>\n",
       "</div>"
      ],
      "text/plain": [
       "        genes    baseMean  log2FoldChange     lfcSE      stat    pvalue  \\\n",
       "0  FGSG_12766  255.656625        5.810286  2.020458  2.875727  0.004031   \n",
       "1  FGSG_00311  151.176689        6.827626  2.487225  2.745078  0.006050   \n",
       "2  FGSG_13488  167.295078        8.152338  2.534992  3.215923  0.001300   \n",
       "\n",
       "       padj      Protein_ID  \n",
       "0  0.047326  XP_011324162.1  \n",
       "1  0.048814  XP_011315959.1  \n",
       "2  0.047326  XP_011328828.1  "
      ]
     },
     "execution_count": 40,
     "metadata": {},
     "output_type": "execute_result"
    }
   ],
   "source": [
    "df_genes"
   ]
  },
  {
   "cell_type": "code",
   "execution_count": 42,
   "id": "bd4ed989-ffd8-4e8e-bc0c-99d461b98ca8",
   "metadata": {},
   "outputs": [
    {
     "data": {
      "text/plain": [
       "['XP_011324162.1', 'XP_011315959.1', 'XP_011328828.1']"
      ]
     },
     "execution_count": 42,
     "metadata": {},
     "output_type": "execute_result"
    }
   ],
   "source": [
    "ProteinIDs"
   ]
  },
  {
   "cell_type": "code",
   "execution_count": 45,
   "id": "4c1aeb56-42bf-4483-8a3a-27cf6a43ea55",
   "metadata": {},
   "outputs": [
    {
     "name": "stdout",
     "output_type": "stream",
     "text": [
      "🔍 Running BLASTp for XP_011324162.1 (1/3)...\n",
      "✅ Results saved: blastp_result_XP_011324162.1.xml\n",
      "🔍 Running BLASTp for XP_011315959.1 (2/3)...\n",
      "✅ Results saved: blastp_result_XP_011315959.1.xml\n",
      "🔍 Running BLASTp for XP_011328828.1 (3/3)...\n",
      "✅ Results saved: blastp_result_XP_011328828.1.xml\n",
      "🎉 All BLASTp searches completed!\n"
     ]
    }
   ],
   "source": [
    "from Bio.Blast import NCBIWWW\n",
    "from Bio import Entrez\n",
    "import time\n",
    "\n",
    "# ✅ Set your email (required for NCBI API usage)\n",
    "Entrez.email = \"thomas.svoboda@boku.ac.at\"  # Replace with your email\n",
    "\n",
    "# ✅ List of protein IDs (Example)\n",
    "protein_ids = df_genes[\"Protein_ID\"]  # Add your IDs here\n",
    "i=0\n",
    "# ✅ Loop through protein IDs and perform BLASTp\n",
    "for idx, protein_id in enumerate(protein_ids, 1):\n",
    "    try:\n",
    "        print(f\"🔍 Running BLASTp for {protein_id} ({idx}/{len(protein_ids)})...\")\n",
    "        \n",
    "        # ✅ Perform BLASTp search\n",
    "        result_handle = NCBIWWW.qblast(\"blastp\", \"nr\", protein_id)\n",
    "\n",
    "        # ✅ Save results to a file\n",
    "        output_file = f\"blastp_result_{protein_id}.xml\"\n",
    "        with open(output_file, \"w\") as out_f:\n",
    "            out_f.write(result_handle.read())\n",
    "        \n",
    "        print(f\"✅ Results saved: {output_file}\")\n",
    "\n",
    "        # ✅ Wait between queries to avoid NCBI rate limits\n",
    "        time.sleep(2)\n",
    "\n",
    "    except Exception as e:\n",
    "        print(f\"❌ Error processing {protein_id}: {e}\")\n",
    "\n",
    "print(\"🎉 All BLASTp searches completed!\")"
   ]
  },
  {
   "cell_type": "code",
   "execution_count": null,
   "id": "d6186852-0b5c-4c67-aa43-6cc1ff56e16c",
   "metadata": {},
   "outputs": [],
   "source": []
  },
  {
   "cell_type": "code",
   "execution_count": null,
   "id": "da02151a-c1c0-4942-bc54-0dfff31b945f",
   "metadata": {},
   "outputs": [],
   "source": []
  },
  {
   "cell_type": "code",
   "execution_count": null,
   "id": "816b09d2-ca44-4c21-a793-97fb245ba5e6",
   "metadata": {},
   "outputs": [],
   "source": []
  }
 ],
 "metadata": {
  "kernelspec": {
   "display_name": "Python 3 (ipykernel)",
   "language": "python",
   "name": "python3"
  },
  "language_info": {
   "codemirror_mode": {
    "name": "ipython",
    "version": 3
   },
   "file_extension": ".py",
   "mimetype": "text/x-python",
   "name": "python",
   "nbconvert_exporter": "python",
   "pygments_lexer": "ipython3",
   "version": "3.10.14"
  }
 },
 "nbformat": 4,
 "nbformat_minor": 5
}
